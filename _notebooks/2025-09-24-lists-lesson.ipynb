{
 "cells": [
  {
   "cell_type": "markdown",
   "id": "b81f49c9",
   "metadata": {},
   "source": [
    "---\n",
    "title: Personal Blog \n",
    "description: Lists Lesson\n",
    "comments: false\n",
    "layout: post\n",
    "permalink: /listslesson\n",
    "author: Meryl Chen\n",
    "---"
   ]
  },
  {
   "cell_type": "markdown",
   "id": "c3715c63",
   "metadata": {},
   "source": [
    "# 📘 Lesson: Lists in Python & JavaScript\n",
    "\n",
    "---\n",
    "\n",
    "## 1. What is a List?\n",
    "- **Python** → Lists are used to store multiple items in a single variable.  \n",
    "- **JavaScript** → Similar idea, but they’re usually called **arrays**.  \n",
    "\n",
    "👉 Think of them like a box with slots, where each slot holds one value.\n",
    "\n",
    "---\n",
    "\n",
    "## 2. Creating a List\n",
    "\n",
    "### Python\n"
   ]
  },
  {
   "cell_type": "code",
   "execution_count": null,
   "id": "dfd3c5f7",
   "metadata": {},
   "outputs": [],
   "source": [
    "# A list of numbers\n",
    "numbers = [1, 2, 3, 4, 5]\n",
    "\n",
    "# A list of mixed types\n",
    "mixed = [\"apple\", 10, True]"
   ]
  },
  {
   "cell_type": "markdown",
   "id": "49e0d43b",
   "metadata": {},
   "source": [
    "### Javascript"
   ]
  },
  {
   "cell_type": "code",
   "execution_count": null,
   "id": "056d8857",
   "metadata": {
    "vscode": {
     "languageId": "javascript"
    }
   },
   "outputs": [],
   "source": [
    "// A list (array) of numbers\n",
    "let numbers = [1, 2, 3, 4, 5];\n",
    "\n",
    "// A list of mixed types\n",
    "let mixed = [\"apple\", 10, true];"
   ]
  }
 ],
 "metadata": {
  "language_info": {
   "name": "python"
  }
 },
 "nbformat": 4,
 "nbformat_minor": 5
}
