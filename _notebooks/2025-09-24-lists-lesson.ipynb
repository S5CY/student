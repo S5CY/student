{
 "cells": [
  {
   "cell_type": "markdown",
   "id": "b81f49c9",
   "metadata": {},
   "source": [
    "---\n",
    "title: Personal Blog \n",
    "description: Lists Lesson\n",
    "comments: false\n",
    "layout: post\n",
    "permalink: /listslesson\n",
    "author: Meryl Chen\n",
    "---"
   ]
  },
  {
   "cell_type": "markdown",
   "id": "c3715c63",
   "metadata": {},
   "source": [
    "# 📘 Lesson: Lists in Python & JavaScript\n",
    "\n",
    "---\n",
    "\n",
    "## 1. What is a List?\n",
    "- **Python** → Lists are used to store multiple items in a single variable.  \n",
    "- **JavaScript** → Similar idea, but they’re usually called **arrays**.  \n",
    "- They can store numbers, text, or even mixed types\n",
    "- Think of them like a row of labeled boxes where each box holds a value\n",
    "\n",
    "---\n",
    "\n",
    "## 2. Creating a List\n",
    "- A list/array is made with square brackets `[]`  \n",
    "- Values are separated by commas  \n",
    "- Both Python and JavaScript allow mixed types in the same list \n",
    "\n",
    "### Python\n"
   ]
  },
  {
   "cell_type": "code",
   "execution_count": null,
   "id": "dfd3c5f7",
   "metadata": {},
   "outputs": [],
   "source": [
    "# A list of numbers\n",
    "numbers = [1, 2, 3, 4, 5]\n",
    "\n",
    "# A list of mixed types\n",
    "mixed = [\"apple\", 10, True]"
   ]
  },
  {
   "cell_type": "markdown",
   "id": "49e0d43b",
   "metadata": {},
   "source": [
    "### Javascript"
   ]
  },
  {
   "cell_type": "code",
   "execution_count": null,
   "id": "056d8857",
   "metadata": {
    "vscode": {
     "languageId": "javascript"
    }
   },
   "outputs": [],
   "source": [
    "// A list (array) of numbers\n",
    "let numbers = [1, 2, 3, 4, 5];\n",
    "\n",
    "// A list of mixed types\n",
    "let mixed = [\"apple\", 10, true];"
   ]
  },
  {
   "cell_type": "markdown",
   "id": "64ae5872",
   "metadata": {},
   "source": [
    "---\n",
    "\n",
    "## 3. Accessing Items\n",
    "- Each item has a position called an **index**  \n",
    "- Indexing starts at `0` (so the first item is position 0)  \n",
    "- You can use the index to read the value at that position\n"
   ]
  },
  {
   "cell_type": "markdown",
   "id": "41054252",
   "metadata": {},
   "source": [
    "### Python"
   ]
  },
  {
   "cell_type": "code",
   "execution_count": null,
   "id": "b2a5dad2",
   "metadata": {},
   "outputs": [],
   "source": [
    "fruits = [\"apple\", \"banana\", \"cherry\"]\n",
    "print(fruits[0])  # apple\n",
    "print(fruits[2])  # cherry"
   ]
  },
  {
   "cell_type": "markdown",
   "id": "edc9cb10",
   "metadata": {},
   "source": [
    "### Javascript"
   ]
  },
  {
   "cell_type": "code",
   "execution_count": null,
   "id": "1b714797",
   "metadata": {
    "vscode": {
     "languageId": "javascript"
    }
   },
   "outputs": [],
   "source": [
    "let fruits = [\"apple\", \"banana\", \"cherry\"];\n",
    "console.log(fruits[0]); // apple\n",
    "console.log(fruits[2]); // cherry"
   ]
  },
  {
   "cell_type": "markdown",
   "id": "2c684413",
   "metadata": {},
   "source": [
    "---\n",
    "\n",
    "## 4. Changing Items\n",
    "- You can replace values in a list/array  \n",
    "- Select the index and assign a new value  \n",
    "- Example: change “banana” to “blueberry”\n"
   ]
  },
  {
   "cell_type": "markdown",
   "id": "9af01196",
   "metadata": {},
   "source": [
    "### Python"
   ]
  },
  {
   "cell_type": "code",
   "execution_count": null,
   "id": "91a33d25",
   "metadata": {},
   "outputs": [],
   "source": [
    "fruits[1] = \"blueberry\"\n",
    "print(fruits)  # ['apple', 'blueberry', 'cherry']"
   ]
  },
  {
   "cell_type": "markdown",
   "id": "51019e5e",
   "metadata": {},
   "source": [
    "### Javascript"
   ]
  },
  {
   "cell_type": "code",
   "execution_count": null,
   "id": "f07b9971",
   "metadata": {
    "vscode": {
     "languageId": "javascript"
    }
   },
   "outputs": [],
   "source": [
    "fruits[1] = \"blueberry\";\n",
    "console.log(fruits); // ['apple', 'blueberry', 'cherry']"
   ]
  },
  {
   "cell_type": "markdown",
   "id": "1076c3d4",
   "metadata": {},
   "source": [
    "---\n",
    "\n",
    "## 5. Adding Items\n",
    "- Lists/arrays can grow by adding new values  \n",
    "- Add to the end with `append` (Python) or `push` (JavaScript)  \n",
    "- Insert at a specific position with `insert` (Python) or `splice` (JavaScript)\n"
   ]
  },
  {
   "cell_type": "markdown",
   "id": "3aaa33bd",
   "metadata": {},
   "source": [
    "### Python"
   ]
  },
  {
   "cell_type": "code",
   "execution_count": null,
   "id": "bd6b88a7",
   "metadata": {},
   "outputs": [],
   "source": [
    "fruits.append(\"orange\")   # add to end\n",
    "fruits.insert(1, \"grape\") # add at position"
   ]
  },
  {
   "cell_type": "markdown",
   "id": "e705afff",
   "metadata": {},
   "source": [
    "### Javascript"
   ]
  },
  {
   "cell_type": "code",
   "execution_count": null,
   "id": "4293c046",
   "metadata": {
    "vscode": {
     "languageId": "javascript"
    }
   },
   "outputs": [],
   "source": [
    "fruits.push(\"orange\");        // add to end\n",
    "fruits.splice(1, 0, \"grape\"); // add at position"
   ]
  },
  {
   "cell_type": "markdown",
   "id": "5aa79e23",
   "metadata": {},
   "source": [
    "---\n",
    "\n",
    "## 6. Removing Items\n",
    "- Lists/arrays can shrink by removing values  \n",
    "- Remove by value (Python) or by index (JavaScript)  \n",
    "- Remove the last item with `pop` in both languages\n"
   ]
  },
  {
   "cell_type": "markdown",
   "id": "91d8604b",
   "metadata": {},
   "source": [
    "### Python"
   ]
  },
  {
   "cell_type": "code",
   "execution_count": null,
   "id": "ec524e42",
   "metadata": {},
   "outputs": [],
   "source": [
    "fruits.remove(\"apple\")  # remove by value\n",
    "fruits.pop()            # remove last item"
   ]
  },
  {
   "cell_type": "markdown",
   "id": "44493b81",
   "metadata": {},
   "source": [
    "### Javascript"
   ]
  },
  {
   "cell_type": "code",
   "execution_count": null,
   "id": "e9faef7e",
   "metadata": {
    "vscode": {
     "languageId": "javascript"
    }
   },
   "outputs": [],
   "source": [
    "fruits.splice(0, 1);   // remove by index\n",
    "fruits.pop();          // remove last item"
   ]
  },
  {
   "cell_type": "markdown",
   "id": "ebe3bc80",
   "metadata": {},
   "source": [
    "---\n",
    "\n",
    "## 7. Looping Through a List\n",
    "- Looping means going through items one by one  \n",
    "- Useful for printing, checking, or processing each value  \n",
    "- Both Python and JavaScript have simple loop syntax\n"
   ]
  },
  {
   "cell_type": "markdown",
   "id": "f6d48252",
   "metadata": {},
   "source": [
    "### Python"
   ]
  },
  {
   "cell_type": "code",
   "execution_count": null,
   "id": "4c53f177",
   "metadata": {},
   "outputs": [],
   "source": [
    "for fruit in fruits:\n",
    "    print(fruit)"
   ]
  },
  {
   "cell_type": "markdown",
   "id": "b83d9ddf",
   "metadata": {},
   "source": [
    "### Javascript"
   ]
  },
  {
   "cell_type": "code",
   "execution_count": null,
   "id": "1067d1e8",
   "metadata": {
    "vscode": {
     "languageId": "javascript"
    }
   },
   "outputs": [],
   "source": [
    "for (let fruit of fruits) {\n",
    "    console.log(fruit);\n",
    "}"
   ]
  },
  {
   "cell_type": "markdown",
   "id": "330be355",
   "metadata": {},
   "source": [
    "---\n",
    "\n",
    "## 8. Key Differences\n",
    "\n",
    "- Python lists and JavaScript arrays work almost the same  \n",
    "- Python has built-in functions like `append`, `insert`, `remove`  \n",
    "- JavaScript arrays often use methods like `push`, `splice`, `pop`  \n",
    "- Syntax is very similar across both "
   ]
  }
 ],
 "metadata": {
  "language_info": {
   "name": "python"
  }
 },
 "nbformat": 4,
 "nbformat_minor": 5
}
