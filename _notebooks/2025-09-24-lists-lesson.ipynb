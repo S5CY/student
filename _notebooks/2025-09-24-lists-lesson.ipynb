{
 "cells": [
  {
   "cell_type": "markdown",
   "id": "b81f49c9",
   "metadata": {},
   "source": [
    "---\n",
    "title: Personal Blog \n",
    "description: Lists Lesson\n",
    "comments: false\n",
    "layout: post\n",
    "permalink: /listslesson\n",
    "author: Meryl Chen\n",
    "---"
   ]
  },
  {
   "cell_type": "markdown",
   "id": "c3715c63",
   "metadata": {},
   "source": [
    "# 📘 Lesson: Lists in Python & JavaScript\n",
    "\n",
    "---\n",
    "\n",
    "## 1. What is a List?\n",
    "- **Python** → Lists are used to store multiple items in a single variable.  \n",
    "- **JavaScript** → Similar idea, but they’re usually called **arrays**.  \n",
    "\n",
    "👉 Think of them like a box with slots, where each slot holds one value.\n",
    "\n",
    "---\n",
    "\n",
    "## 2. Creating a List\n",
    "\n",
    "### Python\n",
    "```python\n",
    "# A list of numbers\n",
    "numbers = [1, 2, 3, 4, 5]\n",
    "\n",
    "# A list of mixed types\n",
    "mixed = [\"apple\", 10, True]\n"
   ]
  }
 ],
 "metadata": {
  "language_info": {
   "name": "python"
  }
 },
 "nbformat": 4,
 "nbformat_minor": 5
}
