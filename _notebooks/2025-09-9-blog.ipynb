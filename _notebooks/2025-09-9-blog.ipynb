{
 "cells": [
  {
   "cell_type": "raw",
   "id": "9e69e468",
   "metadata": {
    "vscode": {
     "languageId": "raw"
    }
   },
   "source": [
    "---\n",
    "title: Personal Blog \n",
    "description: Learn javascript and simple animation building a background with flying object.\n",
    "comments: false\n",
    "layout: post\n",
    "permalink: /blog\n",
    "author: Meryl Chen\n",
    "---"
   ]
  },
  {
   "cell_type": "markdown",
   "id": "e09fe43c",
   "metadata": {},
   "source": [
    "## 1. Setting Up Tools ⚙️\n",
    "In the beginning of the course, we focused on preparing our environment.  \n",
    "\n",
    "- We created a **GitHub account** so we could manage and store code online.  \n",
    "- We installed **Homebrew**, which is a package manager that makes it easy to install and update tools on macOS.  \n",
    "- We set up a **Python virtual environment (venv)** to keep our projects organized and avoid conflicts between libraries.  \n",
    "- We installed and learned how to use **Visual Studio Code (VS Code)** as our main code editor.  \n",
    "\n",
    "This setup step was important because it gave us the foundation to code, save our work, and collaborate.  \n"
   ]
  },
  {
   "cell_type": "markdown",
   "id": "9623d930",
   "metadata": {
    "vscode": {
     "languageId": "javascript"
    }
   },
   "source": [
    "## 2. GitHub and Repositories 🐙\n",
    "Once our tools were ready, we started working with GitHub.  \n",
    "\n",
    "- We pulled (`git pull`) the **student repository**, which is where we keep our personal work.  \n",
    "- We also pulled the **pages repository**, which is used to publish and display web content.  \n",
    "- We practiced basic **Git commands** like `git pull`, `git add`, `git commit`, and `git push`.  \n",
    "\n",
    "This introduced us to **version control** — the ability to track changes, collaborate with others, and keep backups of our work.  \n"
   ]
  },
  {
   "cell_type": "markdown",
   "id": "85708258",
   "metadata": {},
   "source": [
    "## 3. Creating Our About Page 📝\n",
    "One of our first customization tasks was making an **About page** in our student repository.  \n",
    "\n",
    "- We structured it with **sections** such as:\n",
    "  - 🌍 *As a Conversation Starter* (places we have lived)  \n",
    "  - 🧑‍🦱 *Journey through Life* (schools and experiences)  \n",
    "  - 👨‍👩‍👧 *Family* (introducing family members)  \n",
    "- We used **emoji, icons, and cards** to make the page more fun and visually appealing.  \n",
    "- The content wasn’t just plain text — it was organized into categories, with images (like flags) and labels.  \n",
    "- At the bottom, we even had a **comment box** powered by GitHub, which showed how our About page could be interactive.  \n",
    "\n",
    "This project showed us how personal websites can mix **information, design, and interactivity** to express who we are. It was more than just text — it felt like our first step toward real web development.  \n",
    "\n"
   ]
  },
  {
   "cell_type": "markdown",
   "id": "3dcf975d",
   "metadata": {},
   "source": [
    "## 4. Learning Jupyter Notebooks 📒\n",
    "We learned how to use **Jupyter Notebooks** for coding and documentation.  \n",
    "\n",
    "- Jupyter combines **Markdown (text)** and **Python code** in one document.  \n",
    "- This is perfect for making blog posts, tutorials, and reports.  \n",
    "- We tested it by writing small Python programs and mixing them with explanations.  \n",
    "\n",
    "Notebooks are a powerful way to share both code and ideas in a clean format.  \n"
   ]
  },
  {
   "cell_type": "markdown",
   "id": "f12fd1f8",
   "metadata": {},
   "source": [
    "## 5. DOM Jokes 😆\n",
    "We also played with the idea of the **Document Object Model (DOM)** using jokes.  \n",
    "\n",
    "- The DOM represents how websites are structured with elements like paragraphs, images, and headings.  \n",
    "- By experimenting with jokes, we got a fun introduction to how code interacts with a webpage.  \n",
    "- This made the concept of the DOM less abstract and more interactive.  \n",
    "\n",
    "It showed us that programming can be both useful and entertaining.  \n"
   ]
  },
  {
   "cell_type": "markdown",
   "id": "f0cc3ce9",
   "metadata": {},
   "source": [
    "## 6. Customizing Themes 🎨\n",
    "We explored how to customize our GitHub Pages websites.  \n",
    "\n",
    "- We switched to the **Cayman theme**, which made our site look professional.  \n",
    "- Then, we learned how to **change backgrounds**, giving us creative control over the look and feel.  \n",
    "\n",
    "This part connected coding to design and showed us how technical work can overlap with creativity.  \n"
   ]
  }
 ],
 "metadata": {
  "language_info": {
   "name": "python"
  }
 },
 "nbformat": 4,
 "nbformat_minor": 5
}
