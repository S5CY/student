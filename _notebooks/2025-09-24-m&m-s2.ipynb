{
 "cells": [
  {
   "cell_type": "markdown",
   "id": "1f3ebf73",
   "metadata": {},
   "source": [
    "---\n",
    "title: Personal Blog \n",
    "description: Sprint 2\n",
    "comments: false\n",
    "layout: post\n",
    "permalink: /sprint 2\n",
    "author: Meryl Chen\n",
    "---"
   ]
  }
 ],
 "metadata": {
  "language_info": {
   "name": "python"
  }
 },
 "nbformat": 4,
 "nbformat_minor": 5
}
