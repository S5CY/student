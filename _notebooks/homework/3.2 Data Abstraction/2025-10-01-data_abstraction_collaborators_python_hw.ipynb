{
 "cells": [
  {
   "cell_type": "raw",
   "metadata": {
    "vscode": {
     "languageId": "raw"
    }
   },
   "source": [
    "---\n",
    "layout: post\n",
    "title: Data Abstraction Homework Python\n",
    "description: Quick practice with Javascript Lists\n",
    "permalink: /python/data-abstraction/collaborators-hw \n",
    "Author: Nitya R, Alice L, Brandon C\n",
    "---"
   ]
  },
  {
   "cell_type": "code",
   "execution_count": 1,
   "metadata": {},
   "outputs": [
    {
     "name": "stdout",
     "output_type": "stream",
     "text": [
      "Students: Meryl, Avantika, Anika\n",
      "First student: Meryl - 1000000000000000000000000000000\n",
      "After adding Kaylin: Meryl, Avantika, Anika, Kaylin\n",
      "After removing Hope: Meryl, Avantika, Anika, Kaylin\n",
      "\n",
      "Final Scores:\n",
      "Meryl - 1000000000000000000000000000005\n",
      "Avantika - 104\n",
      "Anika - 104\n",
      "Kaylin - 100\n",
      "\n",
      "Favorite Foods:\n",
      "Sushi\n",
      "Falafel\n",
      "Hotdogs\n"
     ]
    }
   ],
   "source": [
    "# 📝 Data Abstraction Hack (Python Version)\n",
    "\n",
    "# --- Instructions ---\n",
    "# 1. Edit the `students` list to use your own names (friends, classmates, etc.).\n",
    "# 2. Edit the `scores` list to assign each student a score of your choice.\n",
    "# 3. Run this program to see how the output changes automatically.\n",
    "# 4. After experimenting with `students` and `scores`, complete the 🚀 Hack Challenge at the bottom.\n",
    "\n",
    "# --- 1. Define lists ---\n",
    "students = [\"Meryl\", \"Avantika\", \"Anika\"]\n",
    "scores = [1000000000000000000000000000000, 99, 99]\n",
    "\n",
    "# --- 2. Print roster ---\n",
    "print(\"Students:\", \", \".join(students))\n",
    "\n",
    "# --- 3. Print first student and score ---\n",
    "print(\"First student:\", students[0], \"-\", scores[0])\n",
    "\n",
    "# --- 4. Add a new student and score ---\n",
    "students.append(\"Kaylin\")\n",
    "scores.append(95)\n",
    "print(\"After adding Kaylin:\", \", \".join(students))\n",
    "\n",
    "# --- 5. Remove a student who transfers out ---\n",
    "if \"Hope\" in students:\n",
    "    index = students.index(\"Hope\")\n",
    "    students.pop(index)\n",
    "    scores.pop(index)\n",
    "print(\"After removing Hope:\", \", \".join(students))\n",
    "\n",
    "# --- 6. Curve all scores by +5 ---\n",
    "for i in range(len(scores)):\n",
    "    scores[i] += 5\n",
    "\n",
    "# --- 7. Print each student with score ---\n",
    "print(\"\\nFinal Scores:\")\n",
    "for i in range(len(students)):\n",
    "    print(students[i], \"-\", scores[i])\n",
    "\n",
    "# --- 8. Hack Challenge: create new list ---\n",
    "favorite_foods = [\"Sushi\", \"Falafel\", \"Hotdogs\"]\n",
    "\n",
    "print(\"\\nFavorite Foods:\")\n",
    "for food in favorite_foods:\n",
    "    print(food)\n"
   ]
  }
 ],
 "metadata": {
  "kernelspec": {
   "display_name": "venv",
   "language": "python",
   "name": "python3"
  },
  "language_info": {
   "codemirror_mode": {
    "name": "ipython",
    "version": 3
   },
   "file_extension": ".py",
   "mimetype": "text/x-python",
   "name": "python",
   "nbconvert_exporter": "python",
   "pygments_lexer": "ipython3",
   "version": "3.13.7"
  }
 },
 "nbformat": 4,
 "nbformat_minor": 2
}
