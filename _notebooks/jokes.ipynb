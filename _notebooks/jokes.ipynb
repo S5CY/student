{
 "cells": [
  {
   "cell_type": "code",
   "execution_count": null,
   "id": "95656b07",
   "metadata": {
    "vscode": {
     "languageId": "javascript"
    }
   },
   "outputs": [
    {
     "data": {
      "application/javascript": "\nvar compsci_joke_list = [\n    { joke: \"Why do programmers prefer dark mode? Because light attracts bugs.\", complexity: \"O(1)\" },\n    { joke: \"Why do Java developers wear glasses? Because they don't see sharp.\", complexity: \"O(1)\" },\n    { joke: \"How many programmers does it take to change a light bulb? None, that's a hardware problem.\", complexity: \"O(1)\" },\n    { joke: \"Why do programmers hate nature? It has too many bugs.\", complexity: \"O(n)\" },\n    { joke: \"Why do Python programmers prefer snake_case? Because they can't C.\", complexity: \"O(1)\" },\n    { joke: \"Why was the JavaScript developer sad? Because he didn't know how to 'null' his feelings.\", complexity: \"O(1)\" },\n    { joke: \"Why do programmers always mix up Christmas and Halloween? Because Oct 31 == Dec 25.\", complexity: \"O(1)\" },\n    { joke: \"Why did the programmer quit his job? Because he didn't get arrays.\", complexity: \"O(n)\" },\n    { joke: \"Why do programmers prefer using the terminal? Because they don't like Windows.\", complexity: \"O(1)\" },\n    { joke: \"Why was the function sad after a breakup? It couldn't find its closure.\", complexity: \"O(1)\" }\n];\nvar randomIndex = Math.floor(Math.random() * compsci_joke_list.length);\nvar selectedJoke = compsci_joke_list[randomIndex];\nconsole.log(\"Joke #\" + (randomIndex + 1) + \": \" + selectedJoke.joke + \" (Complexity: \" + selectedJoke.complexity + \")\");\n",
      "text/plain": [
       "<IPython.core.display.Javascript object>"
      ]
     },
     "metadata": {},
     "output_type": "display_data"
    }
   ],
   "source": [
    "%%javascript\n",
    "\n",
    "var compsci_joke_list = [\n",
    "    { joke: \"Why do programmers prefer dark mode? Because light attracts bugs.\", complexity: \"O(1)\" },\n",
    "    { joke: \"Why do Java developers wear glasses? Because they don't see sharp.\", complexity: \"O(1)\" },\n",
    "    { joke: \"How many programmers does it take to change a light bulb? None, that's a hardware problem.\", complexity: \"O(1)\" },\n",
    "    { joke: \"Why do programmers hate nature? It has too many bugs.\", complexity: \"O(n)\" },\n",
    "    { joke: \"Why do Python programmers prefer snake_case? Because they can't C.\", complexity: \"O(1)\" },\n",
    "    { joke: \"Why was the JavaScript developer sad? Because he didn't know how to 'null' his feelings.\", complexity: \"O(1)\" },\n",
    "    { joke: \"Why do programmers always mix up Christmas and Halloween? Because Oct 31 == Dec 25.\", complexity: \"O(1)\" },\n",
    "    { joke: \"Why did the programmer quit his job? Because he didn't get arrays.\", complexity: \"O(n)\" },\n",
    "    { joke: \"Why do programmers prefer using the terminal? Because they don't like Windows.\", complexity: \"O(1)\" },\n",
    "    { joke: \"Why was the function sad after a breakup? It couldn't find its closure.\", complexity: \"O(1)\" }\n",
    "    { joke: \"There are 10 types of people: those who understand binary and those who don’t.\", complexity: \"O(1)\" },\n",
    "    { joke: \"A SQL query walks into a bar, sees two tables, and says: 'Can I join you?'\", complexity: \"O(1)\" },\n",
    "    { joke: \"I would tell you a UDP joke, but you might not get it.\", complexity: \"O(1)\" },\n",
    "    { joke: \"To understand recursion, first understand recursion.\", complexity: \"O(1)\" },\n",
    "    { joke: \"Why did the developer go broke? Too much cache and no liquidity.\", complexity: \"O(1)\" },\n",
    "    { joke: \"My code works… on my machine. Complexity of portability: NP-hard.\", complexity: \"NP-hard (j/k)\" },\n",
    "    { joke: \"Git commit -m 'final_final_really_final_v2' — the true infinite loop.\", complexity: \"O(∞)\" },\n",
    "    { joke: \"I told my computer I needed a break; it went to sleep.\", complexity: \"O(1)\" },\n",
    "    { joke: \"JavaScript: where 0 == '0' is true and 0 === '0' is therapy.\", complexity: \"O(1)\" },\n",
    "    { joke: \"Why did the array get promoted? It had great indices.\", complexity: \"O(1)\" },\n",
    "    { joke: \"If at first you don’t succeed, call it v1.0.\", complexity: \"O(1)\" },\n",
    "    { joke: \"Why do functional programmers avoid arguments? They prefer pure relationships.\", complexity: \"O(1)\" },\n",
    "    { joke: \"Debugging: being the detective in a crime you committed.\", complexity: \"O(n)\" },\n",
    "    { joke: \"I’d explain a heap joke, but I’m not sure it would top your priorities.\", complexity: \"O(log n)\" },\n",
    "    { joke: \"Why did the thread get interrupted? It couldn’t handle the wait.\", complexity: \"O(1)\" },\n",
    "    { joke: \"Containers at parties are great—they keep everything isolated but well-orchestrated.\", complexity: \"O(1)\" },\n",
    "    { joke: \"Why don’t robots panic? They handle exceptions.\", complexity: \"O(1)\" },\n",
    "    { joke: \"Cache invalidation and naming things: two hard problems. Off by one errors: three.\", complexity: \"O(1)\" },\n",
    "    { joke: \"Why was the boolean in trouble? It couldn’t commit—true or false.\", complexity: \"O(1)\" },\n",
    "    { joke: \"Binary search parties are lit—half the guests leave every round.\", complexity: \"O(log n)\" }\n",
    "];\n",
    "var randomIndex = Math.floor(Math.random() * compsci_joke_list.length);\n",
    "var selectedJoke = compsci_joke_list[randomIndex];\n",
    "console.log(\"Joke #\" + (randomIndex + 1) + \": \" + selectedJoke.joke + \" (Complexity: \" + selectedJoke.complexity + \")\");"
   ]
  }
 ],
 "metadata": {
  "kernelspec": {
   "display_name": "venv",
   "language": "python",
   "name": "python3"
  },
  "language_info": {
   "codemirror_mode": {
    "name": "ipython",
    "version": 3
   },
   "file_extension": ".py",
   "mimetype": "text/x-python",
   "name": "python",
   "nbconvert_exporter": "python",
   "pygments_lexer": "ipython3",
   "version": "3.13.7"
  }
 },
 "nbformat": 4,
 "nbformat_minor": 5
}
