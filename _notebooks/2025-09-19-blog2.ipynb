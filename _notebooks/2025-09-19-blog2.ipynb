{
 "cells": [
  {
   "cell_type": "markdown",
   "id": "0c472254",
   "metadata": {},
   "source": [
    "---\n",
    "title: Personal Blog \n",
    "description: Learn javascript and simple animation building a background with flying object.\n",
    "comments: false\n",
    "layout: post\n",
    "permalink: /blog2\n",
    "author: Meryl Chen\n",
    "---"
   ]
  },
  {
   "cell_type": "markdown",
   "id": "960aac57",
   "metadata": {},
   "source": [
    "This week in Computer Science Principles, our class worked on the LXD learning assignment where we created M&M’s that could “walk” around and collect colors. The project wasn’t just about making candy characters move; it was really about applying the coding skills we’ve been building in class to design a working game.\n",
    "\n",
    "At the start, we brainstormed the steps our M&M’s would need to follow. This included figuring out how to make them walk, how they should interact with colorful M&M’s, and what would happen when a non-colored M&M collected color. Breaking down the process into smaller pieces helped us see how game logic is built step by step.\n",
    "\n",
    "We also got to design different sprites and backgrounds for our project. Making original designs made the game more personal and fun, but it also taught us how visuals play a role in user experience. Seeing how coding connects with art gave me a new appreciation for creativity in computer science.\n",
    "\n",
    "Another big part of this assignment was collaboration. We had to share ideas, test out code together, and problem-solve as a team. Sometimes things didn’t work the way we expected, but we learned to debug and adjust our plan instead of giving up. Working with classmates made the project more enjoyable and showed how teamwork is an important part of computer science.\n",
    "\n",
    "Overall, this assignment gave us hands-on practice in coding, problem solving, and collaboration. By the end, we not only had a fun little game with walking M&M’s but also a stronger understanding of how to take an idea, break it into steps, and bring it to life through code."
   ]
  }
 ],
 "metadata": {
  "language_info": {
   "name": "python"
  }
 },
 "nbformat": 4,
 "nbformat_minor": 5
}
