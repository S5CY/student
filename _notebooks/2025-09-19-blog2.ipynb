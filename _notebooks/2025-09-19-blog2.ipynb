{
 "cells": [
  {
   "cell_type": "markdown",
   "id": "0c472254",
   "metadata": {},
   "source": [
    "---\n",
    "title: Personal Blog \n",
    "description: M&M Project\n",
    "comments: false\n",
    "layout: post\n",
    "permalink: /blog2\n",
    "author: Meryl Chen\n",
    "---"
   ]
  },
  {
   "cell_type": "markdown",
   "id": "960aac57",
   "metadata": {},
   "source": [
    "1️⃣ Introduction\n",
    "\n",
    "This week in Computer Science Principles, our class worked on the LXD learning assignment 🎮. The task was to create digital M&M’s that could “walk” around and collect colors 🌈. While it may have seemed like just a playful candy project 🍬 at first, it actually gave us the chance to apply the coding concepts and skills we’ve been developing in class.\n",
    "\n",
    "2️⃣ Brainstorming the Logic\n",
    "\n",
    "At the very beginning, we had to carefully brainstorm the steps our M&M’s would follow 🧠. Some of the key questions included:\n",
    "\n",
    "How do we program the M&M’s to walk? 🚶‍♂️\n",
    "\n",
    "What should happen when they bump into colorful M&M’s? 🎨\n",
    "\n",
    "What occurs when a plain M&M suddenly collects color? 🌟\n",
    "\n",
    "Breaking this process into smaller steps showed us how game logic is built piece by piece 🧩. This step taught me how important it is to think logically and map out ideas before jumping straight into coding.\n",
    "\n",
    "3️⃣ Designing Sprites & Backgrounds\n",
    "\n",
    "One of the most fun parts of the project was designing our own sprites and backgrounds 🎨. We weren’t just coding movement—we were also shaping how the game looked and felt. Adding unique designs made the project feel more personal and fun ✨. At the same time, it taught me how visuals impact the user experience 👀. I started to see how art and creativity can connect directly with coding, blending imagination with logic in computer science.\n",
    "\n",
    "4️⃣ Collaboration & Problem-Solving\n",
    "\n",
    "Collaboration was another huge piece of the assignment 🤝. We had to:\n",
    "\n",
    "Share ideas 💡\n",
    "\n",
    "Test pieces of code together 👩‍💻👨‍💻\n",
    "\n",
    "Debug whenever things didn’t work as expected 🐛\n",
    "\n",
    "Sometimes the code failed, but instead of quitting, we learned to adjust our plan and keep improving. This teamwork made the project more enjoyable and reminded me that computer science often requires communication and teamwork rather than just working alone.\n",
    "\n",
    "5️⃣ Final Takeaways\n",
    "\n",
    "By the end, our group didn’t just create a fun game with walking M&M’s 🍭—we also gained deeper experience in coding, teamwork, and problem-solving. The project taught us how to:\n",
    "\n",
    "Take an idea 💡\n",
    "\n",
    "Break it into smaller, logical steps 🧩\n",
    "\n",
    "Bring it to life through code 🚀\n",
    "\n",
    "Overall, this assignment showed me that computer science is not only technical but also creative, collaborative, and rewarding ✨."
   ]
  }
 ],
 "metadata": {
  "language_info": {
   "name": "python"
  }
 },
 "nbformat": 4,
 "nbformat_minor": 5
}
